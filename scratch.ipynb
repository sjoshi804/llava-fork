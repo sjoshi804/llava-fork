{
 "cells": [
  {
   "cell_type": "code",
   "execution_count": 4,
   "metadata": {},
   "outputs": [],
   "source": [
    "def compute_cosine_sim(v1, v2):\n",
    "    # Normalize the gradients\n",
    "    norms = v1.norm(dim=1, keepdim=True)  # Compute norms of each vector\n",
    "    normalized_v1 = v1 / norms  # Normalize gradients\n",
    "\n",
    "    norms = v2.norm(dim=1, keepdim=True)  # Compute norms of each vector\n",
    "    normalized_v2 = v2 / norms  # Normalize gradients\n",
    "    \n",
    "    # Compute pairwise cosine similarity\n",
    "    cosine_similarity_matrix = torch.mm(normalized_v1, normalized_v2.t()).float()\n",
    "    return cosine_similarity_matrix"
   ]
  },
  {
   "cell_type": "code",
   "execution_count": 8,
   "metadata": {},
   "outputs": [],
   "source": [
    "import numpy as np \n",
    "import os \n",
    "import torch \n",
    "from tqdm import tqdm\n",
    "\n",
    "def record_similarity_w_self(file_paths):\n",
    "    sims = []\n",
    "    for f in tqdm(file_paths):\n",
    "        row_sims = []\n",
    "        loaded_tensor_1 = torch.stack(torch.load(f), dim=0).to(\"cuda\").float()\n",
    "        for f2 in file_paths:\n",
    "            loaded_tensor_2 = torch.stack(torch.load(f2), dim=0).to(\"cuda\").float()\n",
    "            cos_sim = compute_cosine_sim(loaded_tensor_1, loaded_tensor_2)\n",
    "            row_sims.append((cos_sim).cpu().numpy())\n",
    "        sims.append(row_sims)\n",
    "    return np.block(sims)"
   ]
  },
  {
   "cell_type": "code",
   "execution_count": 9,
   "metadata": {},
   "outputs": [
    {
     "name": "stderr",
     "output_type": "stream",
     "text": [
      "Selecting facilities: 100%|██████████| 2/2 [00:00<00:00, 16100.98facility/s]"
     ]
    },
    {
     "name": "stdout",
     "output_type": "stream",
     "text": [
      "Selected facilities: [2, 0]\n"
     ]
    },
    {
     "name": "stderr",
     "output_type": "stream",
     "text": [
      "\n"
     ]
    }
   ],
   "source": [
    "import numpy as np\n",
    "import heapq\n",
    "from tqdm import tqdm\n",
    "\n",
    "def lazy_greedy_facility_location(S, k):\n",
    "    \"\"\"\n",
    "    Applies the lazy greedy algorithm to solve the facility location problem\n",
    "    using a given similarity matrix.\n",
    "\n",
    "    Parameters:\n",
    "    S (np.ndarray): Similarity matrix of shape (n, n).\n",
    "    k (int): Number of facilities to select.\n",
    "\n",
    "    Returns:\n",
    "    list: Indices of the selected facilities.\n",
    "    \"\"\"\n",
    "    n = S.shape[0]\n",
    "    \n",
    "    # Initialize m_i (current maximum similarities for each item)\n",
    "    m = np.zeros(n)\n",
    "    \n",
    "    # Initial marginal gains (delta_u)\n",
    "    delta = S.sum(axis=0)\n",
    "    \n",
    "    # Initialize priority queue with negative marginal gains\n",
    "    heap = [(-delta[u], u) for u in range(n)]\n",
    "    heapq.heapify(heap)\n",
    "    selected = []\n",
    "    \n",
    "    # Use tqdm to display progress bar\n",
    "    with tqdm(total=k, desc=\"Selecting facilities\", unit=\"facility\") as pbar:\n",
    "        while len(selected) < k and heap:\n",
    "            # Pop the element with the highest marginal gain\n",
    "            neg_delta_u, u = heapq.heappop(heap)\n",
    "            # Recompute marginal gain since m_i may have been updated\n",
    "            delta_u = np.maximum(S[:, u] - m, 0).sum()\n",
    "            # Check if this is still the best option\n",
    "            if not heap or delta_u >= -heap[0][0]:\n",
    "                # Accept u\n",
    "                selected.append(u)\n",
    "                # Update m_i\n",
    "                m = np.maximum(m, S[:, u])\n",
    "                # Update the progress bar\n",
    "                pbar.update(1)\n",
    "            else:\n",
    "                # Update the marginal gain and reinsert into the heap\n",
    "                heapq.heappush(heap, (-delta_u, u))\n",
    "    \n",
    "    return selected\n",
    "\n",
    "# Example usage:\n",
    "if __name__ == \"__main__\":\n",
    "    # Example similarity matrix\n",
    "    S = np.array([\n",
    "        [1.0, 0.8, 0.2, 0.1],\n",
    "        [0.8, 1.0, 0.3, 0.2],\n",
    "        [0.2, 0.3, 1.0, 0.9],\n",
    "        [0.1, 0.2, 0.9, 1.0]\n",
    "    ])\n",
    "    k = 2\n",
    "    selected_facilities = lazy_greedy_facility_location(S, k)\n",
    "    print(\"Selected facilities:\", selected_facilities)\n"
   ]
  },
  {
   "cell_type": "code",
   "execution_count": 14,
   "metadata": {},
   "outputs": [],
   "source": [
    "dir = \"/scratch/saved_representations/chartqa/\"\n",
    "file_paths = sorted([os.path.join(dir, f) for f in os.listdir(dir) if \"representations\" in f])\n",
    "file_paths = file_paths[3:] + file_paths[:3]"
   ]
  },
  {
   "cell_type": "code",
   "execution_count": 15,
   "metadata": {},
   "outputs": [
    {
     "data": {
      "text/plain": [
       "['/scratch/saved_representations/chartqa/representations_cg_gen_1_0.pt',\n",
       " '/scratch/saved_representations/chartqa/representations_cg_gen_1_1.pt',\n",
       " '/scratch/saved_representations/chartqa/representations_cg_gen_1_2.pt',\n",
       " '/scratch/saved_representations/chartqa/representations_cg_gen_2_0.pt',\n",
       " '/scratch/saved_representations/chartqa/representations_cg_gen_2_1.pt',\n",
       " '/scratch/saved_representations/chartqa/representations_cg_gen_2_2.pt',\n",
       " '/scratch/saved_representations/chartqa/representations_cg_gen_3_0.pt',\n",
       " '/scratch/saved_representations/chartqa/representations_cg_gen_3_1.pt',\n",
       " '/scratch/saved_representations/chartqa/representations_cg_gen_3_2.pt',\n",
       " '/scratch/saved_representations/chartqa/representations_cg_gen_4_0.pt',\n",
       " '/scratch/saved_representations/chartqa/representations_cg_gen_4_1.pt',\n",
       " '/scratch/saved_representations/chartqa/representations_cg_gen_4_2.pt',\n",
       " '/scratch/saved_representations/chartqa/representations_cg_gen_5_0.pt',\n",
       " '/scratch/saved_representations/chartqa/representations_cg_gen_5_1.pt',\n",
       " '/scratch/saved_representations/chartqa/representations_cg_gen_5_2.pt',\n",
       " '/scratch/saved_representations/chartqa/representations_cg_gen_6_0.pt',\n",
       " '/scratch/saved_representations/chartqa/representations_cg_gen_6_1.pt',\n",
       " '/scratch/saved_representations/chartqa/representations_cg_gen_6_2.pt',\n",
       " '/scratch/saved_representations/chartqa/representations_cg_gen_7_0.pt',\n",
       " '/scratch/saved_representations/chartqa/representations_cg_gen_7_1.pt',\n",
       " '/scratch/saved_representations/chartqa/representations_cg_gen_7_2.pt',\n",
       " '/scratch/saved_representations/chartqa/representations_cg_gen_8_0.pt',\n",
       " '/scratch/saved_representations/chartqa/representations_cg_gen_8_1.pt',\n",
       " '/scratch/saved_representations/chartqa/representations_cg_gen_8_2.pt',\n",
       " '/scratch/saved_representations/chartqa/representations_cg_gen_9_0.pt',\n",
       " '/scratch/saved_representations/chartqa/representations_cg_gen_9_1.pt',\n",
       " '/scratch/saved_representations/chartqa/representations_cg_gen_9_2.pt',\n",
       " '/scratch/saved_representations/chartqa/representations_cg_gen_10_0.pt',\n",
       " '/scratch/saved_representations/chartqa/representations_cg_gen_10_1.pt',\n",
       " '/scratch/saved_representations/chartqa/representations_cg_gen_10_2.pt']"
      ]
     },
     "execution_count": 15,
     "metadata": {},
     "output_type": "execute_result"
    }
   ],
   "source": [
    "file_paths"
   ]
  },
  {
   "cell_type": "code",
   "execution_count": 16,
   "metadata": {},
   "outputs": [
    {
     "name": "stderr",
     "output_type": "stream",
     "text": [
      "100%|██████████| 30/30 [02:53<00:00,  5.80s/it]\n"
     ]
    }
   ],
   "source": [
    "rep_sim = record_similarity_w_self(file_paths)"
   ]
  },
  {
   "cell_type": "code",
   "execution_count": 18,
   "metadata": {},
   "outputs": [
    {
     "name": "stderr",
     "output_type": "stream",
     "text": [
      "Selecting facilities: 100%|██████████| 149960/149960 [27:44<00:00, 90.11facility/s] \n"
     ]
    }
   ],
   "source": [
    "facility_location_sorted_idx = lazy_greedy_facility_location(rep_sim, len(rep_sim))"
   ]
  },
  {
   "cell_type": "code",
   "execution_count": 20,
   "metadata": {},
   "outputs": [
    {
     "data": {
      "text/plain": [
       "0.72150654"
      ]
     },
     "execution_count": 20,
     "metadata": {},
     "output_type": "execute_result"
    }
   ],
   "source": [
    "np.mean(rep_sim)"
   ]
  },
  {
   "cell_type": "code",
   "execution_count": 27,
   "metadata": {},
   "outputs": [],
   "source": [
    "import json \n",
    "\n",
    "with open(\"/home/t-sijoshi/multimodal-data-gen/generated_data/chartqa_gen_task_desc_150k_2024_09_18_merged.json\", \"r\") as f:\n",
    "    data = json.load(f) "
   ]
  },
  {
   "cell_type": "code",
   "execution_count": 28,
   "metadata": {},
   "outputs": [],
   "source": [
    "import random \n",
    "with open(\"/home/t-sijoshi/multimodal-data-gen/generated_data/chartqa_gen_task_desc_150k_2024_09_18_merged_subset_rand_75k.json\", \"w\") as f:\n",
    "    data[\"samples\"] = random.sample(data[\"samples\"], 75000)\n",
    "    data[\"len_samples\"] = len(data[\"samples\"])\n",
    "    json.dump(data, f, indent=3)"
   ]
  },
  {
   "cell_type": "code",
   "execution_count": 19,
   "metadata": {},
   "outputs": [],
   "source": [
    "np.save(\"subset_idx/chartqa_3_v3_gen_task_desc_150k_facility_location.npy\", facility_location_sorted_idx)"
   ]
  },
  {
   "cell_type": "code",
   "execution_count": 3,
   "metadata": {},
   "outputs": [
    {
     "ename": "NameError",
     "evalue": "name 'sky' is not defined",
     "output_type": "error",
     "traceback": [
      "\u001b[0;31m---------------------------------------------------------------------------\u001b[0m",
      "\u001b[0;31mNameError\u001b[0m                                 Traceback (most recent call last)",
      "Cell \u001b[0;32mIn[3], line 3\u001b[0m\n\u001b[1;32m      1\u001b[0m \u001b[38;5;28;01mimport\u001b[39;00m \u001b[38;5;21;01mmatplotlib\u001b[39;00m\u001b[38;5;21;01m.\u001b[39;00m\u001b[38;5;21;01mpyplot\u001b[39;00m \u001b[38;5;28;01mas\u001b[39;00m \u001b[38;5;21;01mplt\u001b[39;00m\n\u001b[0;32m----> 3\u001b[0m _, bins, _patches \u001b[38;5;241m=\u001b[39m plt\u001b[38;5;241m.\u001b[39mhist(torch\u001b[38;5;241m.\u001b[39mflatten(compute_cosine_sim(ref, \u001b[43msky\u001b[49m)), label\u001b[38;5;241m=\u001b[39m\u001b[38;5;124m\"\u001b[39m\u001b[38;5;124msim with skyline\u001b[39m\u001b[38;5;124m\"\u001b[39m)\n\u001b[1;32m      4\u001b[0m plt\u001b[38;5;241m.\u001b[39mhist(torch\u001b[38;5;241m.\u001b[39mflatten(compute_cosine_sim(ref, gen)), bins\u001b[38;5;241m=\u001b[39mbins, alpha\u001b[38;5;241m=\u001b[39m\u001b[38;5;241m0.5\u001b[39m, label\u001b[38;5;241m=\u001b[39m\u001b[38;5;124m\"\u001b[39m\u001b[38;5;124msim with generated data\u001b[39m\u001b[38;5;124m\"\u001b[39m)\n\u001b[1;32m      5\u001b[0m plt\u001b[38;5;241m.\u001b[39mlegend()\n",
      "\u001b[0;31mNameError\u001b[0m: name 'sky' is not defined"
     ]
    }
   ],
   "source": [
    "import matplotlib.pyplot as plt\n",
    "\n",
    "_, bins, _patches = plt.hist(torch.flatten(compute_cosine_sim(ref, sky)), label=\"sim with skyline\")\n",
    "plt.hist(torch.flatten(compute_cosine_sim(ref, gen)), bins=bins, alpha=0.5, label=\"sim with generated data\")\n",
    "plt.legend()\n",
    "plt.title(\"(All) Last Transformer (V Proj Matrix) Representation Similarity\")"
   ]
  },
  {
   "cell_type": "code",
   "execution_count": 13,
   "metadata": {},
   "outputs": [
    {
     "data": {
      "text/plain": [
       "Text(0.5, 1.0, '(Mean) Last Transformer (V Proj Matrix) Representation Similarity')"
      ]
     },
     "execution_count": 13,
     "metadata": {},
     "output_type": "execute_result"
    },
    {
     "data": {
      "image/png": "[encoded data removed]",
      "text/plain": [
       "<Figure size 640x480 with 1 Axes>"
      ]
     },
     "metadata": {},
     "output_type": "display_data"
    }
   ],
   "source": [
    "import matplotlib.pyplot as plt\n",
    "\n",
    "plt.hist(torch.mean(compute_cosine_sim(ref, sky), dim=0), label=\"sim with skyline\")\n",
    "plt.hist(torch.mean(compute_cosine_sim(ref, gen), dim=0), alpha=0.5, label=\"sim with generated data\")\n",
    "plt.legend()\n",
    "plt.title(\"(Mean) Last Transformer (V Proj Matrix) Representation Similarity\")"
   ]
  },
  {
   "cell_type": "code",
   "execution_count": 17,
   "metadata": {},
   "outputs": [
    {
     "data": {
      "text/plain": [
       "torch.Size([1000])"
      ]
     },
     "execution_count": 17,
     "metadata": {},
     "output_type": "execute_result"
    }
   ],
   "source": [
    "torch.max(compute_cosine_sim(ref, sky), dim=0).values.shape"
   ]
  },
  {
   "cell_type": "code",
   "execution_count": 14,
   "metadata": {},
   "outputs": [
    {
     "data": {
      "text/plain": [
       "Text(0.5, 1.0, '(Max) Last Transformer (V Proj Matrix) Representation Similarity')"
      ]
     },
     "execution_count": 14,
     "metadata": {},
     "output_type": "execute_result"
    },
    {
     "data": {
      "image/png": "[encoded data removed]",
      "text/plain": [
       "<Figure size 640x480 with 1 Axes>"
      ]
     },
     "metadata": {},
     "output_type": "display_data"
    }
   ],
   "source": [
    "import matplotlib.pyplot as plt\n",
    "\n",
    "plt.hist(torch.max(compute_cosine_sim(ref, sky), dim=0).values, label=\"sim with skyline\")\n",
    "plt.hist(torch.max(compute_cosine_sim(ref, gen), dim=0).values, alpha=0.5, label=\"sim with generated data\")\n",
    "plt.legend()\n",
    "plt.title(\"(Max) Last Transformer (V Proj Matrix) Representation Similarity\")"
   ]
  },
  {
   "cell_type": "code",
   "execution_count": 14,
   "metadata": {},
   "outputs": [
    {
     "data": {
      "text/plain": [
       "(array([  91.,  483., 1556., 4322., 6441., 7399., 2914.,  236.,   42.,\n",
       "          16.]),\n",
       " array([0.07484197, 0.13595055, 0.19705912, 0.25816771, 0.31927627,\n",
       "        0.38038486, 0.44149345, 0.50260204, 0.56371057, 0.62481916,\n",
       "        0.68592775]),\n",
       " <BarContainer object of 10 artists>)"
      ]
     },
     "execution_count": 14,
     "metadata": {},
     "output_type": "execute_result"
    },
    {
     "data": {
      "image/png": "[encoded data removed]",
      "text/plain": [
       "<Figure size 640x480 with 1 Axes>"
      ]
     },
     "metadata": {},
     "output_type": "display_data"
    }
   ],
   "source": [
    "plt.hist(torch.flatten(compute_cosine_sim(ref, gen)))"
   ]
  },
  {
   "cell_type": "code",
   "execution_count": 135,
   "metadata": {},
   "outputs": [
    {
     "data": {
      "text/plain": [
       "tensor([0.1943, 0.2217, 0.2852, 0.2451, 0.2354, 0.2275, 0.2539, 0.2617, 0.2520,\n",
       "        0.2422, 0.2314, 0.2334, 0.2393, 0.1963, 0.1670, 0.1455, 0.1079, 0.0884,\n",
       "        0.0732, 0.1094, 0.1094, 0.1138, 0.1289, 0.1611, 0.1689, 0.1709, 0.1670,\n",
       "        0.1680, 0.1631, 0.1475, 0.1465, 0.1328, 0.1602, 0.1621, 0.1592, 0.1484,\n",
       "        0.1465, 0.1377, 0.1260, 0.1250, 0.1357, 0.1621, 0.1670, 0.1650, 0.1611,\n",
       "        0.1748, 0.1768, 0.1689, 0.1621, 0.1631, 0.1631, 0.1689, 0.1895, 0.1797,\n",
       "        0.1895, 0.1758, 0.1748, 0.1738, 0.1670, 0.1768, 0.1631, 0.1689, 0.1689,\n",
       "        0.1641, 0.1631, 0.1650, 0.1709, 0.1660, 0.1680, 0.1729, 0.1768, 0.1748,\n",
       "        0.1768, 0.1729, 0.1699, 0.1689, 0.1699, 0.1543, 0.1514, 0.1592, 0.1582,\n",
       "        0.1582, 0.1562, 0.1631, 0.1670, 0.1582, 0.1562, 0.1533, 0.1602, 0.1621,\n",
       "        0.1553, 0.1455, 0.1475, 0.1504, 0.1572, 0.1621, 0.1582, 0.1553, 0.1523,\n",
       "        0.1602, 0.1660, 0.1621, 0.1689, 0.1650, 0.1631, 0.1650, 0.1641, 0.1689,\n",
       "        0.1621, 0.1650, 0.1582, 0.1602, 0.1523, 0.1572, 0.1494, 0.1504, 0.1455,\n",
       "        0.1426, 0.1406, 0.1387, 0.1406, 0.1367, 0.1396, 0.1406, 0.1533, 0.1543,\n",
       "        0.1533, 0.1572, 0.1670, 0.1729, 0.1729, 0.1748, 0.1748, 0.1758, 0.1807,\n",
       "        0.1836, 0.1934, 0.1934, 0.1953, 0.1885, 0.1885, 0.1855, 0.1816, 0.1787,\n",
       "        0.1787, 0.1787, 0.1738, 0.1709, 0.1738, 0.1738, 0.1787, 0.1836, 0.1846,\n",
       "        0.1865, 0.1885, 0.1758, 0.1719, 0.1719, 0.1719, 0.1729, 0.1699, 0.1709,\n",
       "        0.1660, 0.1650, 0.1650, 0.1621, 0.1582, 0.1553, 0.1592, 0.1602, 0.1592,\n",
       "        0.1611, 0.1621, 0.1621, 0.1641, 0.1738, 0.1699, 0.1709, 0.1768, 0.1768,\n",
       "        0.1807, 0.1797, 0.1777, 0.1797, 0.1836, 0.1836, 0.1826, 0.1777, 0.1748,\n",
       "        0.1768, 0.1738, 0.1719, 0.1768, 0.1787, 0.1836, 0.1855, 0.1855, 0.1816,\n",
       "        0.1816, 0.1768, 0.1768, 0.1777, 0.1797, 0.1787, 0.1777, 0.1787, 0.1797,\n",
       "        0.1787, 0.1816, 0.1816, 0.1816, 0.1826, 0.1885, 0.1875, 0.1836, 0.1826,\n",
       "        0.1797, 0.1787, 0.1787, 0.1758, 0.1748, 0.1748, 0.1729, 0.1758, 0.1787,\n",
       "        0.1758, 0.1758, 0.1787, 0.1797, 0.1787, 0.1797, 0.1797, 0.1797, 0.1797,\n",
       "        0.1836, 0.1826, 0.1836, 0.1846, 0.1816, 0.1826, 0.1826, 0.1826, 0.1797,\n",
       "        0.1816, 0.1816, 0.1836, 0.1885, 0.1885, 0.1865, 0.1885, 0.1875, 0.1846,\n",
       "        0.1807, 0.1836, 0.1807, 0.1797, 0.1777, 0.1807, 0.1787, 0.1787, 0.1787,\n",
       "        0.1797, 0.1797, 0.1826, 0.1807, 0.1807, 0.1777, 0.1758, 0.1709, 0.1729,\n",
       "        0.1729, 0.1719, 0.1689, 0.1699, 0.1689, 0.1699, 0.1699, 0.1689, 0.1709,\n",
       "        0.1709, 0.1709, 0.1709, 0.1729, 0.1748, 0.1758, 0.1787, 0.1777, 0.1816,\n",
       "        0.1816, 0.1846, 0.1826, 0.1807, 0.1816, 0.1855, 0.1855, 0.1846, 0.1836,\n",
       "        0.1826, 0.1836, 0.1836, 0.1846, 0.1846, 0.1846, 0.1875, 0.1865, 0.1855,\n",
       "        0.1865, 0.1895, 0.1875, 0.1895, 0.1865, 0.1855, 0.1855, 0.1865, 0.1865,\n",
       "        0.1865, 0.1885, 0.1885, 0.1875, 0.1904, 0.1875, 0.1865, 0.1846, 0.1836,\n",
       "        0.1836, 0.1826, 0.1816, 0.1816, 0.1836, 0.1846, 0.1826, 0.1807, 0.1826,\n",
       "        0.1816, 0.1846, 0.1836, 0.1816, 0.1836, 0.1836, 0.1836, 0.1846, 0.1836,\n",
       "        0.1816, 0.1807, 0.1826, 0.1846, 0.1826, 0.1836, 0.1826, 0.1826, 0.1816,\n",
       "        0.1816, 0.1836, 0.1826, 0.1846, 0.1826, 0.1816, 0.1768, 0.1738, 0.1748,\n",
       "        0.1777, 0.1758, 0.1768, 0.1816, 0.1826, 0.1826, 0.1826, 0.1816, 0.1816,\n",
       "        0.1807, 0.1807, 0.1787, 0.1797, 0.1816, 0.1826, 0.1826, 0.1836, 0.1826,\n",
       "        0.1807, 0.1816, 0.1816, 0.1816, 0.1807, 0.1807, 0.1807, 0.1777, 0.1797,\n",
       "        0.1797, 0.1797, 0.1807, 0.1807, 0.1758, 0.1777, 0.1768, 0.1768, 0.1777,\n",
       "        0.1787, 0.1797, 0.1807, 0.1826, 0.1826, 0.1846, 0.1855, 0.1846, 0.1836,\n",
       "        0.1816, 0.1807, 0.1816, 0.1816, 0.1816, 0.1787, 0.1797, 0.1807, 0.1816,\n",
       "        0.1807, 0.1797, 0.1797, 0.1816, 0.1807, 0.1826, 0.1826, 0.1846, 0.1836,\n",
       "        0.1826, 0.1816, 0.1816, 0.1826, 0.1826, 0.1816, 0.1816, 0.1846, 0.1826,\n",
       "        0.1807, 0.1797, 0.1807, 0.1826, 0.1816, 0.1816, 0.1826, 0.1816, 0.1826,\n",
       "        0.1816, 0.1807, 0.1816, 0.1807, 0.1807, 0.1807, 0.1777, 0.1797, 0.1807,\n",
       "        0.1777, 0.1768, 0.1777, 0.1777, 0.1787, 0.1787, 0.1797, 0.1777, 0.1787,\n",
       "        0.1807, 0.1816, 0.1826, 0.1816, 0.1807, 0.1807, 0.1807, 0.1787, 0.1807,\n",
       "        0.1816, 0.1807, 0.1807, 0.1807, 0.1826, 0.1826, 0.1836, 0.1826, 0.1836,\n",
       "        0.1826, 0.1836, 0.1846, 0.1855, 0.1836, 0.1846, 0.1855, 0.1855, 0.1855,\n",
       "        0.1846, 0.1855, 0.1846, 0.1855, 0.1846, 0.1875, 0.1875, 0.1895, 0.1885,\n",
       "        0.1895, 0.1904, 0.1914, 0.1914, 0.1914])"
      ]
     },
     "execution_count": 135,
     "metadata": {},
     "output_type": "execute_result"
    }
   ],
   "source": [
    "compute_cosine_sim(ref_gradients, gen_gradients).max(dim=0).values"
   ]
  },
  {
   "cell_type": "code",
   "execution_count": 136,
   "metadata": {},
   "outputs": [
    {
     "data": {
      "text/plain": [
       "(array([2.300e+01, 8.400e+01, 1.810e+02, 5.580e+02, 2.044e+03, 4.468e+03,\n",
       "        1.312e+04, 2.915e+03, 9.900e+01, 8.000e+00]),\n",
       " array([-0.44726562, -0.37753907, -0.30781251, -0.23808594, -0.16835937,\n",
       "        -0.09863281, -0.02890625,  0.04082031,  0.11054687,  0.18027344,\n",
       "         0.25      ]),\n",
       " <BarContainer object of 10 artists>)"
      ]
     },
     "execution_count": 136,
     "metadata": {},
     "output_type": "execute_result"
    },
    {
     "data": {
      "image/png": "[encoded data removed]",
      "text/plain": [
       "<Figure size 640x480 with 1 Axes>"
      ]
     },
     "metadata": {},
     "output_type": "display_data"
    }
   ],
   "source": [
    "plt.hist(compute_cosine_sim(ref_gradients, test_gradients).flatten())"
   ]
  },
  {
   "cell_type": "code",
   "execution_count": 137,
   "metadata": {},
   "outputs": [
    {
     "data": {
      "text/plain": [
       "(array([ 76.,  74.,  66., 208., 284., 344., 244., 192., 280., 441.]),\n",
       " array([0.28710938, 0.35917968, 0.43125001, 0.50332034, 0.57539064,\n",
       "        0.64746094, 0.71953124, 0.79160154, 0.8636719 , 0.9357422 ,\n",
       "        1.0078125 ]),\n",
       " <BarContainer object of 10 artists>)"
      ]
     },
     "execution_count": 137,
     "metadata": {},
     "output_type": "execute_result"
    },
    {
     "data": {
      "image/png": "[encoded data removed]",
      "text/plain": [
       "<Figure size 640x480 with 1 Axes>"
      ]
     },
     "metadata": {},
     "output_type": "display_data"
    }
   ],
   "source": [
    "plt.hist(compute_cosine_sim(ref_gradients, ref_gradients).flatten())\n"
   ]
  },
  {
   "cell_type": "code",
   "execution_count": 138,
   "metadata": {},
   "outputs": [
    {
     "data": {
      "text/plain": [
       "(array([4.20000e+01, 1.76000e+02, 7.70000e+02, 2.00000e+00, 5.40000e+01,\n",
       "        3.32800e+03, 1.26200e+03, 5.19200e+03, 8.34000e+03, 2.30834e+05]),\n",
       " array([-0.38085938, -0.24199219, -0.103125  ,  0.03574219,  0.17460938,\n",
       "         0.31347656,  0.45234376,  0.59121096,  0.7300781 ,  0.8689453 ,\n",
       "         1.0078125 ]),\n",
       " <BarContainer object of 10 artists>)"
      ]
     },
     "execution_count": 138,
     "metadata": {},
     "output_type": "execute_result"
    },
    {
     "data": {
      "image/png": "[encoded data removed]",
      "text/plain": [
       "<Figure size 640x480 with 1 Axes>"
      ]
     },
     "metadata": {},
     "output_type": "display_data"
    }
   ],
   "source": [
    "plt.hist(compute_cosine_sim(test_gradients, test_gradients).flatten())\n"
   ]
  },
  {
   "cell_type": "code",
   "execution_count": 129,
   "metadata": {},
   "outputs": [
    {
     "data": {
      "text/plain": [
       "tensor([-0.1932, -0.0338, -0.0179, -0.1111, -0.1175, -0.1736, -0.0341, -0.0383,\n",
       "        -0.0070,  0.0161,  0.0260,  0.0362,  0.0311,  0.0369,  0.0395,  0.0429,\n",
       "         0.0731,  0.0616,  0.0705,  0.0792,  0.0817,  0.0881,  0.0920,  0.1145,\n",
       "         0.1087,  0.1068,  0.1012,  0.1005,  0.1034,  0.0990,  0.1030,  0.1048,\n",
       "         0.1046,  0.1021,  0.1047,  0.1055,  0.1149,  0.1134,  0.1118,  0.1133,\n",
       "         0.1192,  0.1215,  0.1504,  0.1396,  0.1429,  0.1442,  0.1455,  0.1475,\n",
       "         0.1387,  0.1407,  0.1418,  0.1474,  0.1467,  0.1592,  0.1659,  0.1660,\n",
       "         0.1621,  0.1615,  0.1632,  0.1559,  0.1538,  0.1456,  0.1485,  0.1490,\n",
       "         0.1621,  0.1550,  0.1485,  0.1673,  0.1912,  0.1919,  0.1880,  0.1894,\n",
       "         0.1900,  0.1868,  0.1883,  0.1921,  0.1957,  0.1955,  0.1987,  0.1986,\n",
       "         0.1864,  0.1864,  0.1883,  0.1893,  0.2004,  0.1977,  0.2041,  0.2092,\n",
       "         0.1989,  0.1989,  0.1988,  0.2001,  0.2013,  0.2051,  0.2055,  0.2031,\n",
       "         0.2032,  0.2034,  0.2251,  0.2216,  0.2210,  0.2149,  0.2141,  0.2106,\n",
       "         0.2090,  0.2104,  0.2141,  0.2136,  0.2143,  0.2138,  0.2073,  0.2128,\n",
       "         0.2124,  0.2114,  0.2076,  0.2079,  0.2078,  0.2024,  0.2005,  0.1956,\n",
       "         0.1932,  0.1940,  0.1943,  0.1910,  0.1907,  0.1907,  0.1858,  0.1900,\n",
       "         0.1890,  0.1897,  0.1880,  0.1857,  0.1858,  0.1861,  0.1911,  0.1907,\n",
       "         0.1890,  0.1800,  0.1767,  0.1751,  0.1742,  0.1727,  0.1711,  0.1670,\n",
       "         0.1656,  0.1571,  0.1558,  0.1580,  0.1580,  0.1587,  0.1620,  0.1600,\n",
       "         0.1610,  0.1570,  0.1529,  0.1497,  0.1499,  0.1519,  0.1533,  0.1530,\n",
       "         0.1526,  0.1464,  0.1474,  0.1458,  0.1431,  0.1309,  0.1307,  0.1322,\n",
       "         0.1320,  0.1359,  0.1356,  0.1587,  0.1539,  0.1548,  0.1549,  0.1549,\n",
       "         0.1544,  0.1546,  0.1535,  0.1538,  0.1549,  0.1542,  0.1539,  0.1623,\n",
       "         0.1590,  0.1581,  0.1630,  0.1634,  0.1457,  0.1431,  0.1519,  0.1660,\n",
       "         0.1778,  0.1731,  0.1735,  0.1736,  0.1779,  0.1737,  0.1749,  0.1715,\n",
       "         0.1708,  0.1751,  0.1762,  0.1763,  0.1755,  0.1751,  0.1755,  0.1713,\n",
       "         0.1723,  0.1759,  0.1773,  0.1846,  0.1844,  0.1807,  0.1813,  0.1810,\n",
       "         0.1825,  0.1820,  0.1805,  0.1788,  0.1796,  0.1845,  0.1845,  0.1794,\n",
       "         0.1754,  0.1749,  0.1723,  0.1663,  0.1671,  0.1710,  0.1710,  0.1713,\n",
       "         0.1669,  0.1667,  0.1664,  0.1647,  0.1660,  0.1658,  0.1623,  0.1627,\n",
       "         0.1628,  0.1768,  0.1729,  0.1709,  0.1708,  0.1700,  0.1759,  0.1762,\n",
       "         0.1772,  0.1781,  0.1788,  0.1801,  0.1758,  0.1763,  0.1776,  0.1782,\n",
       "         0.1751,  0.1731,  0.1712,  0.1720,  0.1705,  0.1726,  0.1737,  0.1748,\n",
       "         0.1740,  0.1741,  0.1748,  0.1728,  0.1726,  0.1723,  0.1739,  0.1770,\n",
       "         0.1798,  0.1797,  0.1794,  0.1800,  0.1817,  0.1822,  0.1809,  0.1781,\n",
       "         0.1783,  0.1758,  0.1756,  0.1762,  0.1760,  0.1758,  0.1767,  0.1747,\n",
       "         0.1745,  0.1744,  0.1758,  0.1748,  0.1751,  0.1769,  0.1805,  0.1865,\n",
       "         0.1845,  0.1863,  0.1859,  0.1854,  0.1854,  0.1859,  0.1825,  0.1830,\n",
       "         0.1869,  0.1859,  0.1861,  0.1862,  0.1875,  0.1872,  0.1873,  0.1885,\n",
       "         0.1968,  0.1931,  0.1928,  0.1931,  0.1930,  0.1937,  0.2002,  0.2009,\n",
       "         0.2027,  0.2039,  0.2032,  0.2032,  0.2023,  0.2111,  0.2116,  0.2097,\n",
       "         0.2106,  0.2107,  0.2095,  0.2098,  0.2103,  0.2104,  0.2093,  0.2095,\n",
       "         0.2110,  0.2082,  0.2059,  0.2041,  0.2037,  0.2038,  0.2029,  0.2037,\n",
       "         0.2026,  0.2009,  0.2017,  0.2028,  0.2020,  0.2016,  0.2016,  0.2012,\n",
       "         0.2014,  0.1952,  0.1894,  0.1873,  0.1871,  0.1845,  0.1838,  0.1844,\n",
       "         0.1832,  0.1824,  0.1823,  0.1823,  0.1808,  0.1815,  0.1824,  0.1819,\n",
       "         0.1824,  0.1812,  0.1852,  0.1903,  0.1900,  0.1899,  0.1885,  0.1886,\n",
       "         0.1887,  0.1865,  0.1872,  0.1874,  0.1863,  0.1871,  0.1841,  0.1844,\n",
       "         0.1849,  0.1853,  0.1874,  0.1882,  0.1879,  0.1899,  0.1899,  0.1912,\n",
       "         0.1891,  0.1884,  0.1878,  0.1883,  0.1855,  0.1845,  0.1840,  0.1843,\n",
       "         0.1849,  0.1840,  0.1816,  0.1834,  0.1856,  0.1835,  0.1837,  0.1827,\n",
       "         0.1829,  0.1884,  0.1885,  0.1884,  0.1896,  0.1890,  0.1889,  0.1903,\n",
       "         0.1904,  0.1903,  0.1917,  0.1916,  0.1911,  0.1906,  0.1891,  0.1877,\n",
       "         0.1886,  0.1875,  0.1858,  0.1802,  0.1807,  0.1807,  0.1803,  0.1796,\n",
       "         0.1815,  0.1799,  0.1795,  0.1782,  0.1781,  0.1766,  0.1766,  0.1742,\n",
       "         0.1745,  0.1755,  0.1759,  0.1760,  0.1740,  0.1746,  0.1731,  0.1734,\n",
       "         0.1744,  0.1716,  0.1613,  0.1614,  0.1617,  0.1618,  0.1614,  0.1613,\n",
       "         0.1612,  0.1613,  0.1632,  0.1635,  0.1633,  0.1636,  0.1637,  0.1649,\n",
       "         0.1623,  0.1620,  0.1616,  0.1608,  0.1642,  0.1621,  0.1622,  0.1583,\n",
       "         0.1577,  0.1574,  0.1580,  0.1581,  0.1587,  0.1581,  0.1584,  0.1584,\n",
       "         0.1583,  0.1587,  0.1584,  0.1585,  0.1565,  0.1609,  0.1602,  0.1639,\n",
       "         0.1632,  0.1649,  0.1653,  0.1667,  0.1668,  0.1669,  0.1663,  0.1661,\n",
       "         0.1660,  0.1688,  0.1695,  0.1696])"
      ]
     },
     "execution_count": 129,
     "metadata": {},
     "output_type": "execute_result"
    }
   ],
   "source": [
    "compute_cosine_sim(ref_gradients, test_gradients).mean(dim=0)"
   ]
  },
  {
   "cell_type": "code",
   "execution_count": 128,
   "metadata": {},
   "outputs": [
    {
     "data": {
      "text/plain": [
       "tensor([41, 41, 41, 41, 41, 41, 41, 41, 41, 41, 41, 41, 41, 41, 41, 41, 41, 41,\n",
       "        30, 30, 30, 30, 30, 30, 30, 30, 30, 30, 30, 30, 30, 30, 30, 30, 30, 30,\n",
       "        30, 30, 30, 30, 30, 30, 30, 30, 30, 30, 30, 30, 30, 30, 30, 30, 30, 30,\n",
       "        30, 30, 30, 30, 30, 30, 30, 30, 30, 30, 30, 30, 30, 30, 30, 30, 30, 30,\n",
       "        30, 30, 30, 30, 30, 30, 30, 30, 30, 30, 30, 30, 30, 30, 30, 30, 30, 30,\n",
       "        30, 30, 30, 30, 30, 30, 30, 30, 30, 30, 30, 30, 30, 30, 30, 30, 30, 30,\n",
       "        30, 30, 30, 30, 30, 30, 30, 30, 30, 30, 30, 30, 30, 30, 30, 30, 30, 30,\n",
       "        30, 30, 30, 30, 30, 30, 30, 30, 30, 30, 30, 30, 30, 30, 30, 30, 30, 30,\n",
       "        30, 30, 30, 30, 30, 30, 30, 30, 30, 30, 30, 30, 30, 30, 30, 30, 30, 30,\n",
       "        30, 30, 30, 30, 30, 30, 30, 30, 30, 30, 30, 30, 30, 30, 30, 30, 30, 30,\n",
       "        30, 30, 30, 30, 30, 30, 30, 30, 30, 30, 30, 30, 30, 30, 30, 30, 30, 30,\n",
       "        30, 30, 30, 30, 30, 30, 30, 30, 30, 30, 30, 30, 30, 30, 30, 30, 30, 30,\n",
       "        30, 30, 30, 30, 30, 30, 30, 30, 30, 30, 30, 30, 30, 30, 30, 30, 30, 30,\n",
       "        30, 30, 30, 30, 30, 30, 30, 30, 30, 30, 30, 30, 30, 30, 30, 30, 30, 30,\n",
       "        30, 30, 30, 30, 30, 30, 30, 30, 30, 30, 30, 30, 30, 30, 30, 30, 30, 30,\n",
       "        30, 30, 30, 30, 30, 30, 30, 30, 30, 30, 30, 30, 30, 30, 30, 30, 30, 30,\n",
       "        30, 30, 30, 30, 30, 30, 30, 30, 30, 30, 30, 30, 30, 30, 30, 30, 30, 30,\n",
       "        30, 30, 30, 30, 30, 30, 30, 30, 30, 30, 30, 30, 30, 30, 30, 30, 30, 30,\n",
       "        30, 30, 30, 30, 30, 30, 30, 30, 30, 30, 30, 30, 30, 30, 30, 30, 30, 30,\n",
       "        30, 30, 30, 30, 30, 30, 30, 30, 30, 30, 30, 30, 30, 30, 30, 30, 30, 30,\n",
       "        30, 30, 30, 30, 30, 30, 30, 30, 30, 30, 30, 30, 30, 30, 30, 30, 30, 30,\n",
       "        30, 30, 30, 30, 30, 30, 30, 30, 30, 30, 30, 30, 30, 30, 30, 30, 30, 30,\n",
       "        30, 30, 30, 30, 30, 30, 30, 30, 30, 30, 30, 30, 30, 30, 30, 30, 30, 30,\n",
       "        30, 30, 30, 30, 30, 30, 30, 30, 30, 30, 30, 30, 30, 30, 30, 30, 30, 30,\n",
       "        30, 30, 30, 30, 30, 30, 30, 30, 30, 30, 30, 30, 30, 30, 30, 30, 30, 30,\n",
       "        30, 30, 30, 30, 30, 30, 30, 30, 30, 30, 30, 30, 30, 30, 30, 30, 30, 30,\n",
       "        30, 30, 30, 30, 30, 30, 30, 30, 30, 30, 30, 30, 30, 30, 30, 30, 30, 30,\n",
       "        30, 30, 30, 30, 30, 30, 30, 30, 30, 30, 30, 30, 30, 30])"
      ]
     },
     "execution_count": 128,
     "metadata": {},
     "output_type": "execute_result"
    }
   ],
   "source": [
    "compute_cosine_sim(ref_gradients, gen_gradients).max(dim=0).indices"
   ]
  },
  {
   "cell_type": "code",
   "execution_count": 123,
   "metadata": {},
   "outputs": [
    {
     "data": {
      "text/plain": [
       "(array([ 1.,  0.,  0.,  0.,  0.,  0.,  0.,  0.,  0.,  0.,  0.,  0.,  0.,\n",
       "         0.,  0.,  0.,  0.,  1.,  0.,  0.,  0.,  0.,  0.,  0.,  1.,  0.,\n",
       "         1.,  0.,  0.,  0.,  0.,  0.,  0.,  0.,  2.,  0.,  1.,  0.,  0.,\n",
       "         0.,  0.,  0.,  0.,  1.,  0.,  1.,  0.,  1.,  1.,  1.,  1.,  1.,\n",
       "         0.,  0.,  0.,  0.,  1.,  0.,  1.,  1.,  1.,  1.,  0.,  1.,  0.,\n",
       "         5.,  3.,  5.,  1.,  2.,  4.,  2.,  0.,  0.,  0.,  0.,  0.,  4.,\n",
       "         8.,  7.,  5.,  6., 10., 19.,  9.,  7., 34., 16., 18., 27., 52.,\n",
       "        56., 45., 45., 28., 10., 11., 23.,  3., 15.]),\n",
       " array([-0.13378906, -0.12965821, -0.12552734, -0.12139648, -0.11726563,\n",
       "        -0.11313476, -0.10900391, -0.10487305, -0.10074219, -0.09661133,\n",
       "        -0.09248047, -0.08834961, -0.08421875, -0.08008789, -0.07595703,\n",
       "        -0.07182617, -0.06769531, -0.06356445, -0.05943359, -0.05530274,\n",
       "        -0.05117188, -0.04704101, -0.04291015, -0.0387793 , -0.03464844,\n",
       "        -0.03051758, -0.02638672, -0.02225586, -0.018125  , -0.01399414,\n",
       "        -0.00986328, -0.00573242, -0.00160156,  0.0025293 ,  0.00666016,\n",
       "         0.01079102,  0.01492187,  0.01905273,  0.02318359,  0.02731445,\n",
       "         0.03144531,  0.03557617,  0.03970703,  0.04383789,  0.04796875,\n",
       "         0.05209961,  0.05623047,  0.06036133,  0.06449219,  0.06862304,\n",
       "         0.07275391,  0.07688477,  0.08101562,  0.08514649,  0.08927734,\n",
       "         0.0934082 ,  0.09753906,  0.10166992,  0.10580078,  0.10993164,\n",
       "         0.1140625 ,  0.11819336,  0.12232422,  0.12645508,  0.13058594,\n",
       "         0.13471679,  0.13884765,  0.14297852,  0.14710937,  0.15124023,\n",
       "         0.1553711 ,  0.15950195,  0.16363281,  0.16776367,  0.17189454,\n",
       "         0.17602539,  0.18015625,  0.18428712,  0.18841797,  0.19254883,\n",
       "         0.19667968,  0.20081055,  0.20494141,  0.20907226,  0.21320313,\n",
       "         0.21733399,  0.22146484,  0.2255957 ,  0.22972657,  0.23385742,\n",
       "         0.23798828,  0.24211913,  0.24625   ,  0.25038087,  0.25451171,\n",
       "         0.25864258,  0.26277342,  0.26690429,  0.27103516,  0.275166  ,\n",
       "         0.27929688]),\n",
       " <BarContainer object of 100 artists>)"
      ]
     },
     "execution_count": 123,
     "metadata": {},
     "output_type": "execute_result"
    },
    {
     "data": {
      "image/png": "[encoded data removed]",
      "text/plain": [
       "<Figure size 640x480 with 1 Axes>"
      ]
     },
     "metadata": {},
     "output_type": "display_data"
    }
   ],
   "source": [
    "import matplotlib.pyplot as plt\n",
    "\n",
    "plt.hist(compute_cosine_sim(ref_gradients, gen_gradients).max(dim=0).values, 100)\n",
    "plt.hist(compute_cosine_sim(ref_gradients, test_gradients).max(dim=0).values, 100)"
   ]
  },
  {
   "cell_type": "code",
   "execution_count": 122,
   "metadata": {},
   "outputs": [
    {
     "data": {
      "text/plain": [
       "(array([3.0000e+01, 4.4000e+01, 1.1200e+02, 1.3000e+02, 5.2000e+01,\n",
       "        4.5000e+01, 2.4000e+01, 4.0000e+00, 1.2000e+01, 1.9000e+01,\n",
       "        9.1000e+01, 5.3400e+02, 2.8100e+02, 4.2000e+01, 2.2000e+01,\n",
       "        1.5000e+01, 1.3000e+01, 6.0000e+00, 2.0000e+00, 3.0000e+00,\n",
       "        2.0000e+00, 1.0000e+00, 1.0000e+00, 0.0000e+00, 0.0000e+00,\n",
       "        0.0000e+00, 0.0000e+00, 0.0000e+00, 0.0000e+00, 0.0000e+00,\n",
       "        1.0000e+00, 2.0000e+00, 1.0000e+00, 1.0000e+00, 1.0000e+00,\n",
       "        3.0000e+00, 1.7000e+01, 3.5000e+01, 1.1300e+02, 1.7200e+02,\n",
       "        1.0400e+02, 2.6000e+01, 1.9000e+01, 5.3000e+01, 5.0000e+01,\n",
       "        1.5900e+02, 1.3300e+02, 7.1000e+01, 3.1000e+01, 1.3000e+01,\n",
       "        1.3800e+02, 1.6000e+02, 1.3400e+02, 1.6700e+02, 1.4300e+02,\n",
       "        2.2200e+02, 2.2700e+02, 1.6500e+02, 2.1500e+02, 2.1200e+02,\n",
       "        1.1600e+02, 1.4400e+02, 7.2000e+01, 1.3500e+02, 1.0000e+02,\n",
       "        3.4000e+01, 2.1000e+01, 7.0000e+00, 1.5000e+01, 7.3000e+01,\n",
       "        1.8800e+02, 4.1400e+02, 4.7000e+02, 9.5300e+02, 2.3250e+03,\n",
       "        3.2790e+03, 4.0690e+03, 4.0130e+03, 3.7230e+03, 3.1940e+03,\n",
       "        4.4460e+03, 5.1780e+03, 6.5720e+03, 1.1013e+04, 1.9678e+04,\n",
       "        3.2568e+04, 4.3238e+04, 3.6292e+04, 2.1316e+04, 1.4966e+04,\n",
       "        1.1798e+04, 7.7000e+03, 3.7280e+03, 1.4790e+03, 8.0000e+02,\n",
       "        4.1500e+02, 3.1600e+02, 4.5200e+02, 3.2900e+02, 9.8000e+01]),\n",
       " array([-0.43359375, -0.42587891, -0.41816407, -0.41044921, -0.40273437,\n",
       "        -0.39501953, -0.38730469, -0.37958986, -0.37187499, -0.36416015,\n",
       "        -0.35644531, -0.34873047, -0.34101564, -0.33330077, -0.32558593,\n",
       "        -0.31787109, -0.31015626, -0.30244142, -0.29472655, -0.28701171,\n",
       "        -0.27929688, -0.27158204, -0.2638672 , -0.25615233, -0.24843749,\n",
       "        -0.24072266, -0.23300782, -0.22529297, -0.21757813, -0.20986328,\n",
       "        -0.20214844, -0.1944336 , -0.18671875, -0.17900391, -0.17128906,\n",
       "        -0.16357422, -0.15585938, -0.14814453, -0.14042969, -0.13271484,\n",
       "        -0.125     , -0.11728515, -0.10957031, -0.10185547, -0.09414063,\n",
       "        -0.08642578, -0.07871094, -0.07099609, -0.06328125, -0.05556641,\n",
       "        -0.04785156, -0.04013672, -0.03242188, -0.02470703, -0.01699219,\n",
       "        -0.00927734, -0.0015625 ,  0.00615234,  0.01386719,  0.02158203,\n",
       "         0.02929688,  0.03701172,  0.04472656,  0.05244141,  0.06015625,\n",
       "         0.06787109,  0.07558594,  0.08330078,  0.09101562,  0.09873047,\n",
       "         0.10644531,  0.11416016,  0.121875  ,  0.12958984,  0.13730469,\n",
       "         0.14501953,  0.15273437,  0.16044922,  0.16816406,  0.17587891,\n",
       "         0.18359375,  0.19130859,  0.19902344,  0.20673828,  0.21445313,\n",
       "         0.22216797,  0.22988281,  0.23759766,  0.2453125 ,  0.25302735,\n",
       "         0.26074219,  0.26845703,  0.27617186,  0.28388673,  0.29160157,\n",
       "         0.29931641,  0.30703124,  0.31474608,  0.32246095,  0.33017579,\n",
       "         0.33789062]),\n",
       " <BarContainer object of 100 artists>)"
      ]
     },
     "execution_count": 122,
     "metadata": {},
     "output_type": "execute_result"
    },
    {
     "data": {
      "image/png": "[encoded data removed]",
      "text/plain": [
       "<Figure size 640x480 with 1 Axes>"
      ]
     },
     "metadata": {},
     "output_type": "display_data"
    }
   ],
   "source": [
    "import matplotlib.pyplot as plt\n",
    "\n",
    "plt.hist(compute_cosine_sim(test_gradients, gen_gradients).flatten(), 100)"
   ]
  },
  {
   "cell_type": "code",
   "execution_count": 1,
   "metadata": {},
   "outputs": [],
   "source": [
    "import json \n",
    "\n",
    "with open(\"/home/t-sijoshi/multimodal-data-gen/generated_data/chartqa_gen_task_desc_150k_2024_09_18_merged.json\", \"r\") as f:\n",
    "    data = json.load(f)\n"
   ]
  },
  {
   "cell_type": "code",
   "execution_count": 4,
   "metadata": {},
   "outputs": [],
   "source": [
    "len(data[\"samples\"])\n",
    "\n",
    "chunks = [data[\"samples\"][i:i + len(data[\"samples\"]) // 10] for i in range(0, len(data[\"samples\"]), len(data[\"samples\"]) // 10)]"
   ]
  },
  {
   "cell_type": "code",
   "execution_count": 5,
   "metadata": {},
   "outputs": [],
   "source": [
    "from copy import deepcopy \n",
    "\n",
    "curr_data = deepcopy(data)\n",
    "\n",
    "for i, chunk in enumerate(chunks):\n",
    "    curr_data[\"samples\"] = chunk\n",
    "    curr_data[\"len_samples\"] = len(chunk)\n",
    "    with open(f\"/home/t-sijoshi/multimodal-data-gen/generated_data/chartqa_gen_task_desc_150k_2024_09_18_merged_split_{i+1}.json\", \"w\") as f:\n",
    "        json.dump(curr_data, f, indent=3)"
   ]
  },
  {
   "cell_type": "code",
   "execution_count": 12,
   "metadata": {},
   "outputs": [],
   "source": [
    "from tqdm import tqdm\n",
    "import torch \n",
    "import os \n",
    "import numpy as np \n",
    "\n",
    "def compute_cosine_sim(v1, v2):\n",
    "    # Normalize the gradients\n",
    "    norms = v1.norm(dim=1, keepdim=True)  # Compute norms of each vector\n",
    "    normalized_v1 = v1 / norms  # Normalize gradients\n",
    "\n",
    "    norms = v2.norm(dim=1, keepdim=True)  # Compute norms of each vector\n",
    "    normalized_v2 = v2 / norms  # Normalize gradients\n",
    "    \n",
    "    # Compute pairwise cosine similarity\n",
    "    cosine_similarity_matrix = torch.mm(normalized_v1, normalized_v2.t()).float()\n",
    "    return cosine_similarity_matrix\n",
    "\n",
    "def record_similarity_w_self(file_paths):\n",
    "    sims = []\n",
    "    for f in tqdm(file_paths):\n",
    "        row_sims = []\n",
    "        loaded_tensor_1 = torch.stack(torch.load(f), dim=0).to(\"cuda\").float()\n",
    "        for f2 in file_paths:\n",
    "            loaded_tensor_2 = torch.stack(torch.load(f2), dim=0).to(\"cuda\").float()\n",
    "            cos_sim = compute_cosine_sim(loaded_tensor_1, loaded_tensor_2)\n",
    "            row_sims.append((cos_sim).cpu().numpy())\n",
    "        sims.append(row_sims)\n",
    "    return np.block(sims) "
   ]
  },
  {
   "cell_type": "code",
   "execution_count": 13,
   "metadata": {},
   "outputs": [],
   "source": [
    "file_paths = []\n",
    "for f in os.listdir(\"/scratch/saved_representations/chartqa\"):\n",
    "    file_paths.append(os.path.join(\"/scratch/saved_representations/chartqa\", f))"
   ]
  },
  {
   "cell_type": "code",
   "execution_count": 21,
   "metadata": {},
   "outputs": [
    {
     "data": {
      "text/plain": [
       "torch.Size([5000])"
      ]
     },
     "execution_count": 21,
     "metadata": {},
     "output_type": "execute_result"
    }
   ],
   "source": [
    "torch.stack(torch.load(file_paths[0]), dim=0).shape"
   ]
  },
  {
   "cell_type": "code",
   "execution_count": 19,
   "metadata": {},
   "outputs": [
    {
     "name": "stderr",
     "output_type": "stream",
     "text": [
      "  0%|          | 0/30 [00:00<?, ?it/s]\n"
     ]
    },
    {
     "ename": "IndexError",
     "evalue": "Dimension out of range (expected to be in range of [-1, 0], but got 1)",
     "output_type": "error",
     "traceback": [
      "\u001b[0;31m---------------------------------------------------------------------------\u001b[0m",
      "\u001b[0;31mIndexError\u001b[0m                                Traceback (most recent call last)",
      "Cell \u001b[0;32mIn[19], line 1\u001b[0m\n\u001b[0;32m----> 1\u001b[0m rep_sim \u001b[38;5;241m=\u001b[39m \u001b[43mrecord_similarity_w_self\u001b[49m\u001b[43m(\u001b[49m\u001b[43mfile_paths\u001b[49m\u001b[43m)\u001b[49m\n",
      "Cell \u001b[0;32mIn[12], line 25\u001b[0m, in \u001b[0;36mrecord_similarity_w_self\u001b[0;34m(file_paths)\u001b[0m\n\u001b[1;32m     23\u001b[0m \u001b[38;5;28;01mfor\u001b[39;00m f2 \u001b[38;5;129;01min\u001b[39;00m file_paths:\n\u001b[1;32m     24\u001b[0m     loaded_tensor_2 \u001b[38;5;241m=\u001b[39m torch\u001b[38;5;241m.\u001b[39mstack(torch\u001b[38;5;241m.\u001b[39mload(f2), dim\u001b[38;5;241m=\u001b[39m\u001b[38;5;241m0\u001b[39m)\u001b[38;5;241m.\u001b[39mto(\u001b[38;5;124m\"\u001b[39m\u001b[38;5;124mcuda\u001b[39m\u001b[38;5;124m\"\u001b[39m)\u001b[38;5;241m.\u001b[39mfloat()\n\u001b[0;32m---> 25\u001b[0m     cos_sim \u001b[38;5;241m=\u001b[39m \u001b[43mcompute_cosine_sim\u001b[49m\u001b[43m(\u001b[49m\u001b[43mloaded_tensor_1\u001b[49m\u001b[43m,\u001b[49m\u001b[43m \u001b[49m\u001b[43mloaded_tensor_2\u001b[49m\u001b[43m)\u001b[49m\n\u001b[1;32m     26\u001b[0m     row_sims\u001b[38;5;241m.\u001b[39mappend((cos_sim)\u001b[38;5;241m.\u001b[39mcpu()\u001b[38;5;241m.\u001b[39mnumpy())\n\u001b[1;32m     27\u001b[0m sims\u001b[38;5;241m.\u001b[39mappend(row_sims)\n",
      "Cell \u001b[0;32mIn[12], line 8\u001b[0m, in \u001b[0;36mcompute_cosine_sim\u001b[0;34m(v1, v2)\u001b[0m\n\u001b[1;32m      6\u001b[0m \u001b[38;5;28;01mdef\u001b[39;00m \u001b[38;5;21mcompute_cosine_sim\u001b[39m(v1, v2):\n\u001b[1;32m      7\u001b[0m     \u001b[38;5;66;03m# Normalize the gradients\u001b[39;00m\n\u001b[0;32m----> 8\u001b[0m     norms \u001b[38;5;241m=\u001b[39m \u001b[43mv1\u001b[49m\u001b[38;5;241;43m.\u001b[39;49m\u001b[43mnorm\u001b[49m\u001b[43m(\u001b[49m\u001b[43mdim\u001b[49m\u001b[38;5;241;43m=\u001b[39;49m\u001b[38;5;241;43m1\u001b[39;49m\u001b[43m,\u001b[49m\u001b[43m \u001b[49m\u001b[43mkeepdim\u001b[49m\u001b[38;5;241;43m=\u001b[39;49m\u001b[38;5;28;43;01mTrue\u001b[39;49;00m\u001b[43m)\u001b[49m  \u001b[38;5;66;03m# Compute norms of each vector\u001b[39;00m\n\u001b[1;32m      9\u001b[0m     normalized_v1 \u001b[38;5;241m=\u001b[39m v1 \u001b[38;5;241m/\u001b[39m norms  \u001b[38;5;66;03m# Normalize gradients\u001b[39;00m\n\u001b[1;32m     11\u001b[0m     norms \u001b[38;5;241m=\u001b[39m v2\u001b[38;5;241m.\u001b[39mnorm(dim\u001b[38;5;241m=\u001b[39m\u001b[38;5;241m1\u001b[39m, keepdim\u001b[38;5;241m=\u001b[39m\u001b[38;5;28;01mTrue\u001b[39;00m)  \u001b[38;5;66;03m# Compute norms of each vector\u001b[39;00m\n",
      "File \u001b[0;32m~/miniconda3/envs/vlm/lib/python3.10/site-packages/torch/_tensor.py:708\u001b[0m, in \u001b[0;36mTensor.norm\u001b[0;34m(self, p, dim, keepdim, dtype)\u001b[0m\n\u001b[1;32m    704\u001b[0m \u001b[38;5;28;01mif\u001b[39;00m has_torch_function_unary(\u001b[38;5;28mself\u001b[39m):\n\u001b[1;32m    705\u001b[0m     \u001b[38;5;28;01mreturn\u001b[39;00m handle_torch_function(\n\u001b[1;32m    706\u001b[0m         Tensor\u001b[38;5;241m.\u001b[39mnorm, (\u001b[38;5;28mself\u001b[39m,), \u001b[38;5;28mself\u001b[39m, p\u001b[38;5;241m=\u001b[39mp, dim\u001b[38;5;241m=\u001b[39mdim, keepdim\u001b[38;5;241m=\u001b[39mkeepdim, dtype\u001b[38;5;241m=\u001b[39mdtype\n\u001b[1;32m    707\u001b[0m     )\n\u001b[0;32m--> 708\u001b[0m \u001b[38;5;28;01mreturn\u001b[39;00m \u001b[43mtorch\u001b[49m\u001b[38;5;241;43m.\u001b[39;49m\u001b[43mnorm\u001b[49m\u001b[43m(\u001b[49m\u001b[38;5;28;43mself\u001b[39;49m\u001b[43m,\u001b[49m\u001b[43m \u001b[49m\u001b[43mp\u001b[49m\u001b[43m,\u001b[49m\u001b[43m \u001b[49m\u001b[43mdim\u001b[49m\u001b[43m,\u001b[49m\u001b[43m \u001b[49m\u001b[43mkeepdim\u001b[49m\u001b[43m,\u001b[49m\u001b[43m \u001b[49m\u001b[43mdtype\u001b[49m\u001b[38;5;241;43m=\u001b[39;49m\u001b[43mdtype\u001b[49m\u001b[43m)\u001b[49m\n",
      "File \u001b[0;32m~/miniconda3/envs/vlm/lib/python3.10/site-packages/torch/functional.py:1595\u001b[0m, in \u001b[0;36mnorm\u001b[0;34m(input, p, dim, keepdim, out, dtype)\u001b[0m\n\u001b[1;32m   1593\u001b[0m \u001b[38;5;28;01mif\u001b[39;00m p \u001b[38;5;241m==\u001b[39m \u001b[38;5;124m\"\u001b[39m\u001b[38;5;124mfro\u001b[39m\u001b[38;5;124m\"\u001b[39m \u001b[38;5;129;01mand\u001b[39;00m (dim \u001b[38;5;129;01mis\u001b[39;00m \u001b[38;5;28;01mNone\u001b[39;00m \u001b[38;5;129;01mor\u001b[39;00m \u001b[38;5;28misinstance\u001b[39m(dim, \u001b[38;5;28mint\u001b[39m) \u001b[38;5;129;01mor\u001b[39;00m \u001b[38;5;28mlen\u001b[39m(dim) \u001b[38;5;241m<\u001b[39m\u001b[38;5;241m=\u001b[39m \u001b[38;5;241m2\u001b[39m):\n\u001b[1;32m   1594\u001b[0m     \u001b[38;5;28;01mif\u001b[39;00m out \u001b[38;5;129;01mis\u001b[39;00m \u001b[38;5;28;01mNone\u001b[39;00m:\n\u001b[0;32m-> 1595\u001b[0m         \u001b[38;5;28;01mreturn\u001b[39;00m \u001b[43mtorch\u001b[49m\u001b[38;5;241;43m.\u001b[39;49m\u001b[43mlinalg\u001b[49m\u001b[38;5;241;43m.\u001b[39;49m\u001b[43mvector_norm\u001b[49m\u001b[43m(\u001b[49m\u001b[38;5;28;43minput\u001b[39;49m\u001b[43m,\u001b[49m\u001b[43m \u001b[49m\u001b[38;5;241;43m2\u001b[39;49m\u001b[43m,\u001b[49m\u001b[43m \u001b[49m\u001b[43m_dim\u001b[49m\u001b[43m,\u001b[49m\u001b[43m \u001b[49m\u001b[43mkeepdim\u001b[49m\u001b[43m,\u001b[49m\u001b[43m \u001b[49m\u001b[43mdtype\u001b[49m\u001b[38;5;241;43m=\u001b[39;49m\u001b[43mdtype\u001b[49m\u001b[43m)\u001b[49m\n\u001b[1;32m   1596\u001b[0m     \u001b[38;5;28;01melse\u001b[39;00m:\n\u001b[1;32m   1597\u001b[0m         \u001b[38;5;28;01mreturn\u001b[39;00m torch\u001b[38;5;241m.\u001b[39mlinalg\u001b[38;5;241m.\u001b[39mvector_norm(\u001b[38;5;28minput\u001b[39m, \u001b[38;5;241m2\u001b[39m, _dim, keepdim, dtype\u001b[38;5;241m=\u001b[39mdtype, out\u001b[38;5;241m=\u001b[39mout)\n",
      "\u001b[0;31mIndexError\u001b[0m: Dimension out of range (expected to be in range of [-1, 0], but got 1)"
     ]
    }
   ],
   "source": [
    "rep_sim = record_similarity_w_self(file_paths)"
   ]
  },
  {
   "cell_type": "code",
   "execution_count": 11,
   "metadata": {},
   "outputs": [],
   "source": [
    "import numpy as np\n",
    "import heapq\n",
    "from tqdm import tqdm\n",
    "\n",
    "def lazy_greedy_facility_location(S, k):\n",
    "    \"\"\"\n",
    "    Applies the lazy greedy algorithm to solve the facility location problem\n",
    "    using a given similarity matrix.\n",
    "\n",
    "    Parameters:\n",
    "    S (np.ndarray): Similarity matrix of shape (n, n).\n",
    "    k (int): Number of facilities to select.\n",
    "\n",
    "    Returns:\n",
    "    list: Indices of the selected facilities.\n",
    "    \"\"\"\n",
    "    n = S.shape[0]\n",
    "    \n",
    "    # Initialize m_i (current maximum similarities for each item)\n",
    "    m = np.zeros(n)\n",
    "    \n",
    "    # Initial marginal gains (delta_u)\n",
    "    delta = S.sum(axis=0)\n",
    "    \n",
    "    # Initialize priority queue with negative marginal gains\n",
    "    heap = [(-delta[u], u) for u in range(n)]\n",
    "    heapq.heapify(heap)\n",
    "    selected = []\n",
    "    \n",
    "    # Use tqdm to display progress bar\n",
    "    with tqdm(total=k, desc=\"Selecting facilities\", unit=\"facility\") as pbar:\n",
    "        while len(selected) < k and heap:\n",
    "            # Pop the element with the highest marginal gain\n",
    "            neg_delta_u, u = heapq.heappop(heap)\n",
    "            # Recompute marginal gain since m_i may have been updated\n",
    "            delta_u = np.maximum(S[:, u] - m, 0).sum()\n",
    "            # Check if this is still the best option\n",
    "            if not heap or delta_u >= -heap[0][0]:\n",
    "                # Accept u\n",
    "                selected.append(u)\n",
    "                # Update m_i\n",
    "                m = np.maximum(m, S[:, u])\n",
    "                # Update the progress bar\n",
    "                pbar.update(1)\n",
    "            else:\n",
    "                # Update the marginal gain and reinsert into the heap\n",
    "                heapq.heappush(heap, (-delta_u, u))\n",
    "    \n",
    "    return selected"
   ]
  },
  {
   "cell_type": "code",
   "execution_count": null,
   "metadata": {},
   "outputs": [],
   "source": [
    "sim = record_similarity_w_self(\"representations_cqa\", start=0, stop=10)"
   ]
  },
  {
   "cell_type": "code",
   "execution_count": null,
   "metadata": {},
   "outputs": [],
   "source": []
  }
 ],
 "metadata": {
  "kernelspec": {
   "display_name": "vlm",
   "language": "python",
   "name": "python3"
  },
  "language_info": {
   "codemirror_mode": {
    "name": "ipython",
    "version": 3
   },
   "file_extension": ".py",
   "mimetype": "text/x-python",
   "name": "python",
   "nbconvert_exporter": "python",
   "pygments_lexer": "ipython3",
   "version": "3.10.14"
  }
 },
 "nbformat": 4,
 "nbformat_minor": 2
}
